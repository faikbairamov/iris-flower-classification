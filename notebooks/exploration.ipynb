{
 "cells": [
  {
   "cell_type": "code",
   "execution_count": 1,
   "id": "2f519e56",
   "metadata": {},
   "outputs": [],
   "source": [
    "import numpy as np\n",
    "import matplotlib.pyplot as plt\n",
    "import seaborn as sns\n",
    "import pandas as pd\n",
    "\n",
    "%matplotlib inline"
   ]
  },
  {
   "cell_type": "code",
   "execution_count": 2,
   "id": "e522246d",
   "metadata": {},
   "outputs": [],
   "source": [
    "data = pd.read_csv(\"../data/iris_data.csv\", header=None)"
   ]
  },
  {
   "cell_type": "code",
   "execution_count": 3,
   "id": "e9bc3af9",
   "metadata": {},
   "outputs": [
    {
     "data": {
      "text/html": [
       "<div>\n",
       "<style scoped>\n",
       "    .dataframe tbody tr th:only-of-type {\n",
       "        vertical-align: middle;\n",
       "    }\n",
       "\n",
       "    .dataframe tbody tr th {\n",
       "        vertical-align: top;\n",
       "    }\n",
       "\n",
       "    .dataframe thead th {\n",
       "        text-align: right;\n",
       "    }\n",
       "</style>\n",
       "<table border=\"1\" class=\"dataframe\">\n",
       "  <thead>\n",
       "    <tr style=\"text-align: right;\">\n",
       "      <th></th>\n",
       "      <th>0</th>\n",
       "      <th>1</th>\n",
       "      <th>2</th>\n",
       "      <th>3</th>\n",
       "      <th>4</th>\n",
       "    </tr>\n",
       "  </thead>\n",
       "  <tbody>\n",
       "    <tr>\n",
       "      <th>0</th>\n",
       "      <td>5.1</td>\n",
       "      <td>3.5</td>\n",
       "      <td>1.4</td>\n",
       "      <td>0.2</td>\n",
       "      <td>Iris-setosa</td>\n",
       "    </tr>\n",
       "    <tr>\n",
       "      <th>1</th>\n",
       "      <td>4.9</td>\n",
       "      <td>3.0</td>\n",
       "      <td>1.4</td>\n",
       "      <td>0.2</td>\n",
       "      <td>Iris-setosa</td>\n",
       "    </tr>\n",
       "    <tr>\n",
       "      <th>2</th>\n",
       "      <td>4.7</td>\n",
       "      <td>3.2</td>\n",
       "      <td>1.3</td>\n",
       "      <td>0.2</td>\n",
       "      <td>Iris-setosa</td>\n",
       "    </tr>\n",
       "    <tr>\n",
       "      <th>3</th>\n",
       "      <td>4.6</td>\n",
       "      <td>3.1</td>\n",
       "      <td>1.5</td>\n",
       "      <td>0.2</td>\n",
       "      <td>Iris-setosa</td>\n",
       "    </tr>\n",
       "    <tr>\n",
       "      <th>4</th>\n",
       "      <td>5.0</td>\n",
       "      <td>3.6</td>\n",
       "      <td>1.4</td>\n",
       "      <td>0.2</td>\n",
       "      <td>Iris-setosa</td>\n",
       "    </tr>\n",
       "    <tr>\n",
       "      <th>...</th>\n",
       "      <td>...</td>\n",
       "      <td>...</td>\n",
       "      <td>...</td>\n",
       "      <td>...</td>\n",
       "      <td>...</td>\n",
       "    </tr>\n",
       "    <tr>\n",
       "      <th>145</th>\n",
       "      <td>6.7</td>\n",
       "      <td>3.0</td>\n",
       "      <td>5.2</td>\n",
       "      <td>2.3</td>\n",
       "      <td>Iris-virginica</td>\n",
       "    </tr>\n",
       "    <tr>\n",
       "      <th>146</th>\n",
       "      <td>6.3</td>\n",
       "      <td>2.5</td>\n",
       "      <td>5.0</td>\n",
       "      <td>1.9</td>\n",
       "      <td>Iris-virginica</td>\n",
       "    </tr>\n",
       "    <tr>\n",
       "      <th>147</th>\n",
       "      <td>6.5</td>\n",
       "      <td>3.0</td>\n",
       "      <td>5.2</td>\n",
       "      <td>2.0</td>\n",
       "      <td>Iris-virginica</td>\n",
       "    </tr>\n",
       "    <tr>\n",
       "      <th>148</th>\n",
       "      <td>6.2</td>\n",
       "      <td>3.4</td>\n",
       "      <td>5.4</td>\n",
       "      <td>2.3</td>\n",
       "      <td>Iris-virginica</td>\n",
       "    </tr>\n",
       "    <tr>\n",
       "      <th>149</th>\n",
       "      <td>5.9</td>\n",
       "      <td>3.0</td>\n",
       "      <td>5.1</td>\n",
       "      <td>1.8</td>\n",
       "      <td>Iris-virginica</td>\n",
       "    </tr>\n",
       "  </tbody>\n",
       "</table>\n",
       "<p>150 rows × 5 columns</p>\n",
       "</div>"
      ],
      "text/plain": [
       "       0    1    2    3               4\n",
       "0    5.1  3.5  1.4  0.2     Iris-setosa\n",
       "1    4.9  3.0  1.4  0.2     Iris-setosa\n",
       "2    4.7  3.2  1.3  0.2     Iris-setosa\n",
       "3    4.6  3.1  1.5  0.2     Iris-setosa\n",
       "4    5.0  3.6  1.4  0.2     Iris-setosa\n",
       "..   ...  ...  ...  ...             ...\n",
       "145  6.7  3.0  5.2  2.3  Iris-virginica\n",
       "146  6.3  2.5  5.0  1.9  Iris-virginica\n",
       "147  6.5  3.0  5.2  2.0  Iris-virginica\n",
       "148  6.2  3.4  5.4  2.3  Iris-virginica\n",
       "149  5.9  3.0  5.1  1.8  Iris-virginica\n",
       "\n",
       "[150 rows x 5 columns]"
      ]
     },
     "execution_count": 3,
     "metadata": {},
     "output_type": "execute_result"
    }
   ],
   "source": [
    "data"
   ]
  },
  {
   "cell_type": "markdown",
   "id": "3f4a8ac9",
   "metadata": {},
   "source": [
    "Splitting the dataset into X and Y variables"
   ]
  },
  {
   "cell_type": "code",
   "execution_count": 4,
   "id": "1a968b2e",
   "metadata": {},
   "outputs": [],
   "source": [
    "X_train, y_train = data[[0, 1, 2, 3]], data[4]"
   ]
  },
  {
   "cell_type": "code",
   "execution_count": 5,
   "id": "6f864a76",
   "metadata": {},
   "outputs": [
    {
     "name": "stdout",
     "output_type": "stream",
     "text": [
      "       0    1    2    3\n",
      "0    5.1  3.5  1.4  0.2\n",
      "1    4.9  3.0  1.4  0.2\n",
      "2    4.7  3.2  1.3  0.2\n",
      "3    4.6  3.1  1.5  0.2\n",
      "4    5.0  3.6  1.4  0.2\n",
      "..   ...  ...  ...  ...\n",
      "145  6.7  3.0  5.2  2.3\n",
      "146  6.3  2.5  5.0  1.9\n",
      "147  6.5  3.0  5.2  2.0\n",
      "148  6.2  3.4  5.4  2.3\n",
      "149  5.9  3.0  5.1  1.8\n",
      "\n",
      "[150 rows x 4 columns] 0         Iris-setosa\n",
      "1         Iris-setosa\n",
      "2         Iris-setosa\n",
      "3         Iris-setosa\n",
      "4         Iris-setosa\n",
      "            ...      \n",
      "145    Iris-virginica\n",
      "146    Iris-virginica\n",
      "147    Iris-virginica\n",
      "148    Iris-virginica\n",
      "149    Iris-virginica\n",
      "Name: 4, Length: 150, dtype: object\n",
      "(150, 4) (150,)\n"
     ]
    }
   ],
   "source": [
    "print(X_train, y_train)\n",
    "print(X_train.shape, y_train.shape)"
   ]
  },
  {
   "cell_type": "markdown",
   "id": "40fe2863",
   "metadata": {},
   "source": [
    "Standardizing the training data:"
   ]
  },
  {
   "cell_type": "code",
   "execution_count": 6,
   "id": "8de5eb04",
   "metadata": {},
   "outputs": [],
   "source": [
    "mu = X_train.mean(axis=0)\n",
    "sigma  = X_train.std(axis=0)\n",
    "\n",
    "X_train = (X_train - mu) / sigma"
   ]
  },
  {
   "cell_type": "code",
   "execution_count": 7,
   "id": "e7bd757c",
   "metadata": {},
   "outputs": [
    {
     "data": {
      "text/html": [
       "<div>\n",
       "<style scoped>\n",
       "    .dataframe tbody tr th:only-of-type {\n",
       "        vertical-align: middle;\n",
       "    }\n",
       "\n",
       "    .dataframe tbody tr th {\n",
       "        vertical-align: top;\n",
       "    }\n",
       "\n",
       "    .dataframe thead th {\n",
       "        text-align: right;\n",
       "    }\n",
       "</style>\n",
       "<table border=\"1\" class=\"dataframe\">\n",
       "  <thead>\n",
       "    <tr style=\"text-align: right;\">\n",
       "      <th></th>\n",
       "      <th>0</th>\n",
       "      <th>1</th>\n",
       "      <th>2</th>\n",
       "      <th>3</th>\n",
       "    </tr>\n",
       "  </thead>\n",
       "  <tbody>\n",
       "    <tr>\n",
       "      <th>0</th>\n",
       "      <td>-0.897674</td>\n",
       "      <td>1.028611</td>\n",
       "      <td>-1.336794</td>\n",
       "      <td>-1.308593</td>\n",
       "    </tr>\n",
       "    <tr>\n",
       "      <th>1</th>\n",
       "      <td>-1.139200</td>\n",
       "      <td>-0.124540</td>\n",
       "      <td>-1.336794</td>\n",
       "      <td>-1.308593</td>\n",
       "    </tr>\n",
       "    <tr>\n",
       "      <th>2</th>\n",
       "      <td>-1.380727</td>\n",
       "      <td>0.336720</td>\n",
       "      <td>-1.393470</td>\n",
       "      <td>-1.308593</td>\n",
       "    </tr>\n",
       "    <tr>\n",
       "      <th>3</th>\n",
       "      <td>-1.501490</td>\n",
       "      <td>0.106090</td>\n",
       "      <td>-1.280118</td>\n",
       "      <td>-1.308593</td>\n",
       "    </tr>\n",
       "    <tr>\n",
       "      <th>4</th>\n",
       "      <td>-1.018437</td>\n",
       "      <td>1.259242</td>\n",
       "      <td>-1.336794</td>\n",
       "      <td>-1.308593</td>\n",
       "    </tr>\n",
       "    <tr>\n",
       "      <th>...</th>\n",
       "      <td>...</td>\n",
       "      <td>...</td>\n",
       "      <td>...</td>\n",
       "      <td>...</td>\n",
       "    </tr>\n",
       "    <tr>\n",
       "      <th>145</th>\n",
       "      <td>1.034539</td>\n",
       "      <td>-0.124540</td>\n",
       "      <td>0.816888</td>\n",
       "      <td>1.443121</td>\n",
       "    </tr>\n",
       "    <tr>\n",
       "      <th>146</th>\n",
       "      <td>0.551486</td>\n",
       "      <td>-1.277692</td>\n",
       "      <td>0.703536</td>\n",
       "      <td>0.918985</td>\n",
       "    </tr>\n",
       "    <tr>\n",
       "      <th>147</th>\n",
       "      <td>0.793012</td>\n",
       "      <td>-0.124540</td>\n",
       "      <td>0.816888</td>\n",
       "      <td>1.050019</td>\n",
       "    </tr>\n",
       "    <tr>\n",
       "      <th>148</th>\n",
       "      <td>0.430722</td>\n",
       "      <td>0.797981</td>\n",
       "      <td>0.930239</td>\n",
       "      <td>1.443121</td>\n",
       "    </tr>\n",
       "    <tr>\n",
       "      <th>149</th>\n",
       "      <td>0.068433</td>\n",
       "      <td>-0.124540</td>\n",
       "      <td>0.760212</td>\n",
       "      <td>0.787951</td>\n",
       "    </tr>\n",
       "  </tbody>\n",
       "</table>\n",
       "<p>150 rows × 4 columns</p>\n",
       "</div>"
      ],
      "text/plain": [
       "            0         1         2         3\n",
       "0   -0.897674  1.028611 -1.336794 -1.308593\n",
       "1   -1.139200 -0.124540 -1.336794 -1.308593\n",
       "2   -1.380727  0.336720 -1.393470 -1.308593\n",
       "3   -1.501490  0.106090 -1.280118 -1.308593\n",
       "4   -1.018437  1.259242 -1.336794 -1.308593\n",
       "..        ...       ...       ...       ...\n",
       "145  1.034539 -0.124540  0.816888  1.443121\n",
       "146  0.551486 -1.277692  0.703536  0.918985\n",
       "147  0.793012 -0.124540  0.816888  1.050019\n",
       "148  0.430722  0.797981  0.930239  1.443121\n",
       "149  0.068433 -0.124540  0.760212  0.787951\n",
       "\n",
       "[150 rows x 4 columns]"
      ]
     },
     "execution_count": 7,
     "metadata": {},
     "output_type": "execute_result"
    }
   ],
   "source": [
    "X_train"
   ]
  },
  {
   "cell_type": "code",
   "execution_count": 8,
   "id": "5b960106",
   "metadata": {},
   "outputs": [
    {
     "name": "stderr",
     "output_type": "stream",
     "text": [
      "/var/folders/rk/_r6t3b5j0jd1cjytp0py3tv00000gn/T/ipykernel_26876/445551901.py:1: FutureWarning: Downcasting behavior in `replace` is deprecated and will be removed in a future version. To retain the old behavior, explicitly call `result.infer_objects(copy=False)`. To opt-in to the future behavior, set `pd.set_option('future.no_silent_downcasting', True)`\n",
      "  y_train = y_train.replace({\n"
     ]
    }
   ],
   "source": [
    "y_train = y_train.replace({\n",
    "  \"Iris-setosa\": 0,\n",
    "  \"Iris-versicolor\": 1,\n",
    "  \"Iris-virginica\": 2\n",
    "}).astype(int)"
   ]
  },
  {
   "cell_type": "code",
   "execution_count": 9,
   "id": "a897a97c",
   "metadata": {},
   "outputs": [
    {
     "data": {
      "text/plain": [
       "0      0\n",
       "1      0\n",
       "2      0\n",
       "3      0\n",
       "4      0\n",
       "      ..\n",
       "145    2\n",
       "146    2\n",
       "147    2\n",
       "148    2\n",
       "149    2\n",
       "Name: 4, Length: 150, dtype: int64"
      ]
     },
     "execution_count": 9,
     "metadata": {},
     "output_type": "execute_result"
    }
   ],
   "source": [
    "y_train"
   ]
  },
  {
   "cell_type": "code",
   "execution_count": 10,
   "id": "3df37cc0",
   "metadata": {},
   "outputs": [],
   "source": [
    "from sklearn.model_selection import train_test_split\n",
    "X_train, X_val, y_train, y_val = train_test_split(\n",
    "    X_train, y_train, test_size=0.2, random_state=42\n",
    ")\n",
    "\n",
    "Y_onehot = pd.get_dummies(y_train).reindex(columns=[0, 1, 2], fill_value=0).to_numpy()\n",
    "Y_val_onehot = pd.get_dummies(y_val)"
   ]
  },
  {
   "cell_type": "code",
   "execution_count": 11,
   "id": "44f6933d",
   "metadata": {},
   "outputs": [
    {
     "name": "stdout",
     "output_type": "stream",
     "text": [
      "            0         1         2         3\n",
      "22  -1.501490  1.259242 -1.563497 -1.308593\n",
      "15  -0.173094  3.104284 -1.280118 -1.046525\n",
      "65   1.034539  0.106090  0.363481  0.263815\n",
      "11  -1.259964  0.797981 -1.223442 -1.308593\n",
      "42  -1.743017  0.336720 -1.393470 -1.308593\n",
      "..        ...       ...       ...       ...\n",
      "71   0.309959 -0.585801  0.136778  0.132781\n",
      "106 -1.139200 -1.277692  0.420157  0.656917\n",
      "14  -0.052331  2.181763 -1.450146 -1.308593\n",
      "92  -0.052331 -1.047062  0.136778  0.001747\n",
      "102  1.517592 -0.124540  1.213619  1.181053\n",
      "\n",
      "[120 rows x 4 columns]\n",
      "            0         1         2         3\n",
      "73   0.309959 -0.585801  0.533509  0.001747\n",
      "18  -0.173094  1.720502 -1.166767 -1.177559\n",
      "118  2.242172 -1.047062  1.780377  1.443121\n",
      "78   0.189196 -0.355171  0.420157  0.394849\n",
      "76   1.155302 -0.585801  0.590184  0.263815\n",
      "31  -0.535384  0.797981 -1.280118 -1.046525\n",
      "64  -0.293857 -0.355171 -0.089926  0.132781\n",
      "141  1.276066  0.106090  0.760212  1.443121\n",
      "68   0.430722 -1.969583  0.420157  0.394849\n",
      "82  -0.052331 -0.816431  0.080102  0.001747\n",
      "110  0.793012  0.336720  0.760212  1.050019\n",
      "12  -1.259964 -0.124540 -1.336794 -1.439627\n",
      "36  -0.414621  1.028611 -1.393470 -1.308593\n",
      "9   -1.139200  0.106090 -1.280118 -1.439627\n",
      "19  -0.897674  1.720502 -1.280118 -1.177559\n",
      "56   0.551486  0.567351  0.533509  0.525883\n",
      "104  0.793012 -0.124540  1.156943  1.312087\n",
      "69  -0.293857 -1.277692  0.080102 -0.129287\n",
      "55  -0.173094 -0.585801  0.420157  0.132781\n",
      "132  0.672249 -0.585801  1.043591  1.312087\n",
      "29  -1.380727  0.336720 -1.223442 -1.308593\n",
      "127  0.309959 -0.124540  0.646860  0.787951\n",
      "26  -1.018437  0.797981 -1.223442 -1.046525\n",
      "128  0.672249 -0.585801  1.043591  1.181053\n",
      "131  2.483699  1.720502  1.496998  1.050019\n",
      "145  1.034539 -0.124540  0.816888  1.443121\n",
      "108  1.034539 -1.277692  1.156943  0.787951\n",
      "143  1.155302  0.336720  1.213619  1.443121\n",
      "45  -1.259964 -0.124540 -1.336794 -1.177559\n",
      "30  -1.259964  0.106090 -1.223442 -1.308593\n",
      "22     0\n",
      "15     0\n",
      "65     1\n",
      "11     0\n",
      "42     0\n",
      "      ..\n",
      "71     1\n",
      "106    2\n",
      "14     0\n",
      "92     1\n",
      "102    2\n",
      "Name: 4, Length: 120, dtype: int64\n",
      "73     1\n",
      "18     0\n",
      "118    2\n",
      "78     1\n",
      "76     1\n",
      "31     0\n",
      "64     1\n",
      "141    2\n",
      "68     1\n",
      "82     1\n",
      "110    2\n",
      "12     0\n",
      "36     0\n",
      "9      0\n",
      "19     0\n",
      "56     1\n",
      "104    2\n",
      "69     1\n",
      "55     1\n",
      "132    2\n",
      "29     0\n",
      "127    2\n",
      "26     0\n",
      "128    2\n",
      "131    2\n",
      "145    2\n",
      "108    2\n",
      "143    2\n",
      "45     0\n",
      "30     0\n",
      "Name: 4, dtype: int64\n",
      "[[ True False False]\n",
      " [ True False False]\n",
      " [False  True False]\n",
      " [ True False False]\n",
      " [ True False False]\n",
      " [False False  True]\n",
      " [False  True False]\n",
      " [ True False False]\n",
      " [ True False False]\n",
      " [ True False False]\n",
      " [False False  True]\n",
      " [False  True False]\n",
      " [False  True False]\n",
      " [ True False False]\n",
      " [ True False False]\n",
      " [False  True False]\n",
      " [False False  True]\n",
      " [False False  True]\n",
      " [False  True False]\n",
      " [False False  True]\n",
      " [False  True False]\n",
      " [False False  True]\n",
      " [False  True False]\n",
      " [ True False False]\n",
      " [False False  True]\n",
      " [False  True False]\n",
      " [ True False False]\n",
      " [ True False False]\n",
      " [ True False False]\n",
      " [False  True False]\n",
      " [False False  True]\n",
      " [ True False False]\n",
      " [ True False False]\n",
      " [ True False False]\n",
      " [False  True False]\n",
      " [ True False False]\n",
      " [False  True False]\n",
      " [False False  True]\n",
      " [ True False False]\n",
      " [False  True False]\n",
      " [False False  True]\n",
      " [ True False False]\n",
      " [False False  True]\n",
      " [False False  True]\n",
      " [False  True False]\n",
      " [False  True False]\n",
      " [False False  True]\n",
      " [False  True False]\n",
      " [ True False False]\n",
      " [False  True False]\n",
      " [False False  True]\n",
      " [ True False False]\n",
      " [ True False False]\n",
      " [False  True False]\n",
      " [False  True False]\n",
      " [ True False False]\n",
      " [False False  True]\n",
      " [ True False False]\n",
      " [ True False False]\n",
      " [False  True False]\n",
      " [False  True False]\n",
      " [False False  True]\n",
      " [False  True False]\n",
      " [False False  True]\n",
      " [False False  True]\n",
      " [False  True False]\n",
      " [ True False False]\n",
      " [ True False False]\n",
      " [False False  True]\n",
      " [False False  True]\n",
      " [ True False False]\n",
      " [ True False False]\n",
      " [ True False False]\n",
      " [False  True False]\n",
      " [False False  True]\n",
      " [ True False False]\n",
      " [False False  True]\n",
      " [False False  True]\n",
      " [ True False False]\n",
      " [False  True False]\n",
      " [False  True False]\n",
      " [False False  True]\n",
      " [False  True False]\n",
      " [False False  True]\n",
      " [ True False False]\n",
      " [False False  True]\n",
      " [False  True False]\n",
      " [False False  True]\n",
      " [False  True False]\n",
      " [False  True False]\n",
      " [False  True False]\n",
      " [ True False False]\n",
      " [False  True False]\n",
      " [False  True False]\n",
      " [ True False False]\n",
      " [False  True False]\n",
      " [False False  True]\n",
      " [False False  True]\n",
      " [ True False False]\n",
      " [False  True False]\n",
      " [False False  True]\n",
      " [False False  True]\n",
      " [ True False False]\n",
      " [False False  True]\n",
      " [ True False False]\n",
      " [False  True False]\n",
      " [False False  True]\n",
      " [False False  True]\n",
      " [False  True False]\n",
      " [False False  True]\n",
      " [False  True False]\n",
      " [False  True False]\n",
      " [False False  True]\n",
      " [False False  True]\n",
      " [ True False False]\n",
      " [False  True False]\n",
      " [False False  True]\n",
      " [ True False False]\n",
      " [False  True False]\n",
      " [False False  True]]\n",
      "         0      1      2\n",
      "73   False   True  False\n",
      "18    True  False  False\n",
      "118  False  False   True\n",
      "78   False   True  False\n",
      "76   False   True  False\n",
      "31    True  False  False\n",
      "64   False   True  False\n",
      "141  False  False   True\n",
      "68   False   True  False\n",
      "82   False   True  False\n",
      "110  False  False   True\n",
      "12    True  False  False\n",
      "36    True  False  False\n",
      "9     True  False  False\n",
      "19    True  False  False\n",
      "56   False   True  False\n",
      "104  False  False   True\n",
      "69   False   True  False\n",
      "55   False   True  False\n",
      "132  False  False   True\n",
      "29    True  False  False\n",
      "127  False  False   True\n",
      "26    True  False  False\n",
      "128  False  False   True\n",
      "131  False  False   True\n",
      "145  False  False   True\n",
      "108  False  False   True\n",
      "143  False  False   True\n",
      "45    True  False  False\n",
      "30    True  False  False\n"
     ]
    }
   ],
   "source": [
    "print(X_train, X_val, y_train, y_val, Y_onehot, Y_val_onehot, sep=\"\\n\")"
   ]
  },
  {
   "cell_type": "code",
   "execution_count": 12,
   "id": "e526bf4e",
   "metadata": {},
   "outputs": [],
   "source": [
    "num_features = X_train.shape[1]\n",
    "num_classes = 3\n",
    "\n",
    "W = np.zeros((num_features, num_classes))\n",
    "b = np.zeros((1, num_classes))"
   ]
  },
  {
   "cell_type": "code",
   "execution_count": 13,
   "id": "73b3e7d4",
   "metadata": {},
   "outputs": [],
   "source": [
    "def compute_logits(X, W, b):\n",
    "  return np.dot(X, W) + b"
   ]
  },
  {
   "cell_type": "code",
   "execution_count": 14,
   "id": "aa20c227",
   "metadata": {},
   "outputs": [],
   "source": [
    "def softmax(z):\n",
    "  exp_z = np.exp(z - np.max(z, axis=1, keepdims=True))\n",
    "  return exp_z / np.sum(exp_z, axis=1, keepdims=True)"
   ]
  },
  {
   "cell_type": "markdown",
   "id": "39af2897",
   "metadata": {},
   "source": [
    "### Cross-Entropy Loss\n",
    "\n",
    "For multi-class classification with one-hot encoded labels, the cross-entropy loss is defined as:\n",
    "\n",
    "$$\n",
    "\\mathcal{L} = -\\frac{1}{m} \\sum_{i=1}^{m} \\sum_{j=1}^{C} y_{ij} \\cdot \\log(\\hat{y}_{ij})\n",
    "$$\n",
    "\n",
    "Where:\n",
    "- \\( m \\) is the number of samples  \n",
    "- \\( C \\) is the number of classes  \n",
    "- \\( y_{ij} \\) is the true one-hot encoded label (1 if sample \\( i \\) belongs to class \\( j \\), otherwise 0)  \n",
    "- \\( \\hat{y}_{ij} \\) is the predicted probability for sample \\( i \\), class \\( j \\)\n"
   ]
  },
  {
   "cell_type": "code",
   "execution_count": 15,
   "id": "c227d43c",
   "metadata": {},
   "outputs": [],
   "source": [
    "def cross_entropy_loss(Y_pred, Y_true):\n",
    "  m = Y_true.shape[0]\n",
    "  return -np.sum(Y_true * np.log(Y_pred * 1e-15)) / m"
   ]
  },
  {
   "cell_type": "code",
   "execution_count": 16,
   "id": "bda4322a",
   "metadata": {},
   "outputs": [],
   "source": [
    "def compute_gradients(X, Y_true, Y_pred):\n",
    "  m = X.shape[0]\n",
    "  dZ = Y_pred - Y_true\n",
    "  dW = np.dot(X.T, dZ) / m\n",
    "  db = np.sum(dZ, axis=0, keepdims=True) / m\n",
    "  return dW, db\n"
   ]
  },
  {
   "cell_type": "code",
   "execution_count": 18,
   "id": "93f9c3dc",
   "metadata": {},
   "outputs": [
    {
     "name": "stdout",
     "output_type": "stream",
     "text": [
      "Epoch: 0, Loss: 34.6675\n",
      "Epoch: 100, Loss: 34.6618\n",
      "Epoch: 200, Loss: 34.6569\n",
      "Epoch: 300, Loss: 34.6526\n",
      "Epoch: 400, Loss: 34.6488\n",
      "Epoch: 500, Loss: 34.6455\n",
      "Epoch: 600, Loss: 34.6425\n",
      "Epoch: 700, Loss: 34.6398\n",
      "Epoch: 800, Loss: 34.6374\n",
      "Epoch: 900, Loss: 34.6352\n"
     ]
    }
   ],
   "source": [
    "learning_rate = 0.1\n",
    "epochs = 1000\n",
    "losses = []\n",
    "val_losses = []\n",
    "\n",
    "for epoch in range(epochs):\n",
    "  logits = compute_logits(X_train, W, b)\n",
    "  Y_pred = softmax(logits)\n",
    "  loss = cross_entropy_loss(Y_pred, Y_onehot)\n",
    "  losses.append(loss)\n",
    "  validation_logits = compute_logits(X_val, W, b)\n",
    "  val_pred = softmax(validation_logits)\n",
    "  val_loss = cross_entropy_loss(val_pred, pd.get_dummies(y_val).reindex(columns=[0, 1, 2], fill_value=0).to_numpy())\n",
    "  val_losses.append(val_loss)\n",
    "  dW, db = compute_gradients(X_train, Y_onehot, Y_pred)\n",
    "\n",
    "\n",
    "  W -= learning_rate * dW\n",
    "  b -= learning_rate * db\n",
    "\n",
    "  if epoch % 100 == 0:\n",
    "    print(f\"Epoch: {epoch}, Loss: {loss:.4f}\")\n"
   ]
  },
  {
   "cell_type": "code",
   "execution_count": 19,
   "id": "fbbc07ca",
   "metadata": {},
   "outputs": [],
   "source": [
    "def predict(X, W, b):\n",
    "  logits = compute_logits(X, W, b)\n",
    "  probs = softmax(logits)\n",
    "  return np.argmax(probs, axis=1)"
   ]
  },
  {
   "cell_type": "code",
   "execution_count": 20,
   "id": "a506bd14",
   "metadata": {},
   "outputs": [
    {
     "name": "stdout",
     "output_type": "stream",
     "text": [
      "Training Accuracy: 96.67%\n"
     ]
    }
   ],
   "source": [
    "y_pred_labels = predict(X_train, W, b)\n",
    "training_accuracy = np.mean(y_pred_labels == y_train.to_numpy())\n",
    "print(f\"Training Accuracy: {training_accuracy * 100:.2f}%\")"
   ]
  },
  {
   "cell_type": "code",
   "execution_count": 21,
   "id": "591a7aa0",
   "metadata": {},
   "outputs": [
    {
     "name": "stdout",
     "output_type": "stream",
     "text": [
      "Validation Accuracy: 100.00%\n"
     ]
    }
   ],
   "source": [
    "y_pred_validation_labels = predict(X_val, W, b)\n",
    "validation_accuracy = np.mean(y_pred_validation_labels == y_val.to_numpy())\n",
    "print(f\"Validation Accuracy: {validation_accuracy * 100:.2f}%\")"
   ]
  },
  {
   "cell_type": "code",
   "execution_count": 22,
   "id": "306a4c9e",
   "metadata": {},
   "outputs": [
    {
     "data": {
      "text/plain": [
       "Text(0.5, 1.0, 'Training Loss Curve')"
      ]
     },
     "execution_count": 22,
     "metadata": {},
     "output_type": "execute_result"
    },
    {
     "data": {
      "image/png": "[encoded data removed]",
      "text/plain": [
       "<Figure size 640x480 with 1 Axes>"
      ]
     },
     "metadata": {},
     "output_type": "display_data"
    }
   ],
   "source": [
    "plt.plot(losses)\n",
    "plt.xlabel(\"Epoch\")\n",
    "plt.ylabel(\"Loss\")\n",
    "plt.title(\"Training Loss Curve\")"
   ]
  },
  {
   "cell_type": "code",
   "execution_count": 24,
   "id": "fb0435d7",
   "metadata": {},
   "outputs": [
    {
     "data": {
      "text/plain": [
       "Text(0.5, 1.0, 'Validation Loss Curve')"
      ]
     },
     "execution_count": 24,
     "metadata": {},
     "output_type": "execute_result"
    },
    {
     "data": {
      "image/png": "[encoded data removed]",
      "text/plain": [
       "<Figure size 640x480 with 1 Axes>"
      ]
     },
     "metadata": {},
     "output_type": "display_data"
    }
   ],
   "source": [
    "plt.plot(val_losses)\n",
    "plt.xlabel(\"Epoch\")\n",
    "plt.ylabel(\"Loss\")\n",
    "plt.title(\"Validation Loss Curve\")"
   ]
  },
  {
   "cell_type": "code",
   "execution_count": 25,
   "id": "0adc8c97",
   "metadata": {},
   "outputs": [
    {
     "data": {
      "image/png": "[encoded data removed]",
      "text/plain": [
       "<Figure size 640x480 with 1 Axes>"
      ]
     },
     "metadata": {},
     "output_type": "display_data"
    }
   ],
   "source": [
    "from sklearn.decomposition import PCA\n",
    "\n",
    "# Project training data to 2D\n",
    "pca = PCA(n_components=2)\n",
    "X_train_2d = pca.fit_transform(X_train)\n",
    "\n",
    "# Create a meshgrid for plotting decision boundaries\n",
    "x_min, x_max = X_train_2d[:, 0].min() - 1, X_train_2d[:, 0].max() + 1\n",
    "y_min, y_max = X_train_2d[:, 1].min() - 1, X_train_2d[:, 1].max() + 1\n",
    "xx, yy = np.meshgrid(np.linspace(x_min, x_max, 200), np.linspace(y_min, y_max, 200))\n",
    "grid = np.c_[xx.ravel(), yy.ravel()]\n",
    "\n",
    "# Inverse transform grid to original feature space\n",
    "grid_original = pca.inverse_transform(grid)\n",
    "Z = predict(grid_original, W, b)\n",
    "Z = Z.reshape(xx.shape)\n",
    "\n",
    "plt.contourf(xx, yy, Z, alpha=0.3, cmap=plt.cm.coolwarm)\n",
    "scatter = plt.scatter(X_train_2d[:, 0], X_train_2d[:, 1], c=y_train, cmap=plt.cm.coolwarm, edgecolor='k')\n",
    "plt.xlabel('PCA Component 1')\n",
    "plt.ylabel('PCA Component 2')\n",
    "plt.title('Decision Boundaries and Training Data (PCA Projection)')\n",
    "plt.legend(*scatter.legend_elements(), title=\"Classes\")\n",
    "plt.show()"
   ]
  },
  {
   "cell_type": "code",
   "execution_count": null,
   "id": "a24b9b29",
   "metadata": {},
   "outputs": [],
   "source": []
  }
 ],
 "metadata": {
  "kernelspec": {
   "display_name": "venv",
   "language": "python",
   "name": "python3"
  },
  "language_info": {
   "codemirror_mode": {
    "name": "ipython",
    "version": 3
   },
   "file_extension": ".py",
   "mimetype": "text/x-python",
   "name": "python",
   "nbconvert_exporter": "python",
   "pygments_lexer": "ipython3",
   "version": "3.11.9"
  }
 },
 "nbformat": 4,
 "nbformat_minor": 5
}
